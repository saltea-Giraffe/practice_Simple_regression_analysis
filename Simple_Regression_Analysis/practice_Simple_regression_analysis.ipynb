{
 "cells": [
  {
   "cell_type": "markdown",
   "metadata": {},
   "source": [
    "## 問題設定と対象データセット\n",
    "\n",
    "*どのような問題に取り組んだか*\n",
    "\n",
    "気温とアイスクリームの売上金額の関係\n",
    "\n",
    "*対象データセット*\n",
    "\n",
    "icecream_data.txt\n"
   ]
  },
  {
   "cell_type": "markdown",
   "metadata": {},
   "source": [
    "## 使用した機械学習手法\n",
    "\n",
    "単回帰分析\n"
   ]
  },
  {
   "cell_type": "markdown",
   "metadata": {},
   "source": [
    "## その実装（独自の実装のソースコードを掲載 or 既存の実装を明示）\n",
    "numpyを使用して数値計算\n",
    "Scikit-learnを使用\n",
    "matplotlibを使用してグラフ描画\n",
    "ソースコードをCodeのセルとして記入"
   ]
  },
  {
   "cell_type": "markdown",
   "metadata": {},
   "source": [
    "## 機械学習の実行過程\n",
    "\n",
    "*以下のセルに記入。複数のセル（Markdown,Code）に分ける*"
   ]
  },
  {
   "cell_type": "markdown",
   "metadata": {},
   "source": [
    "icecream.txt："
   ]
  },
  {
   "cell_type": "markdown",
   "metadata": {},
   "source": [
    "#year mounth temperature ice_cream_sales\n",
    "2018 1 10 507\n",
    "2018 2 10 416\n",
    "2018 3 14 607\n",
    "2018 4 19 746\n",
    "2018 5 23 894\n",
    "2018 6 26 1021\n",
    "2018 7 30 1506\n",
    "2018 8 31 1443\n",
    "2018 9 27 861\n",
    "2018 10 22 640\n",
    "2018 11 17 492\n",
    "2018 12 12 537\n",
    "2019 1 9 494\n",
    "2019 2 11 423\n",
    "2019 3 12 542\n",
    "2019 4 18 667\n",
    "2019 5 23 1000\n",
    "2019 6 25 991\n",
    "2019 7 29 1236\n",
    "2019 8 31 1513\n",
    "2019 9 26 996\n",
    "2019 10 20 724\n",
    "2019 11 15 531\n",
    "2019 12 10 584\n",
    "2020 1 10 510\n",
    "2020 2 11 482\n",
    "2020 3 13 610\n",
    "2020 4 20 689\n",
    "2020 5 24 1040\n",
    "2020 6 26 1123\n",
    "2020 7 30 1155\n",
    "2020 8 32 1658\n",
    "2020 9 27 1025\n",
    "2020 10 23 649\n",
    "2020 11 18 537\n",
    "2020 12 13 599\n",
    "2021 1 11 510\n",
    "2021 2 11 458\n",
    "2021 3 12 602\n",
    "2021 4 17 708\n",
    "2021 5 23 915\n",
    "2021 6 24 1089\n",
    "2021 7 28 1485\n",
    "2021 8 31 1427\n",
    "2021 9 27 973\n",
    "2021 10 20 779\n",
    "2021 11 16 582\n",
    "2021 12 12 620\n",
    "2022 1 11 581\n",
    "2022 2 12 504\n",
    "2022 3 13 631\n",
    "2022 4 19 781\n",
    "2022 5 24 975\n",
    "2022 6 25 1109\n",
    "2022 7 28 1551\n",
    "2022 8 31 1516\n",
    "2022 9 28 1083\n",
    "2022 10 21 794\n",
    "2022 11 16 660\n",
    "2022 12 10 663"
   ]
  },
  {
   "cell_type": "markdown",
   "metadata": {},
   "source": [
    "main.py："
   ]
  },
  {
   "cell_type": "code",
   "execution_count": 2,
   "metadata": {
    "scrolled": true
   },
   "outputs": [
    {
     "name": "stdout",
     "output_type": "stream",
     "text": [
      "[[  10.  507.]\n",
      " [  10.  416.]\n",
      " [  14.  607.]\n",
      " [  19.  746.]\n",
      " [  23.  894.]\n",
      " [  26. 1021.]\n",
      " [  30. 1506.]\n",
      " [  31. 1443.]\n",
      " [  27.  861.]\n",
      " [  22.  640.]\n",
      " [  17.  492.]\n",
      " [  12.  537.]\n",
      " [   9.  494.]\n",
      " [  11.  423.]\n",
      " [  12.  542.]\n",
      " [  18.  667.]\n",
      " [  23. 1000.]\n",
      " [  25.  991.]\n",
      " [  29. 1236.]\n",
      " [  31. 1513.]\n",
      " [  26.  996.]\n",
      " [  20.  724.]\n",
      " [  15.  531.]\n",
      " [  10.  584.]\n",
      " [  10.  510.]\n",
      " [  11.  482.]\n",
      " [  13.  610.]\n",
      " [  20.  689.]\n",
      " [  24. 1040.]\n",
      " [  26. 1123.]\n",
      " [  30. 1155.]\n",
      " [  32. 1658.]\n",
      " [  27. 1025.]\n",
      " [  23.  649.]\n",
      " [  18.  537.]\n",
      " [  13.  599.]\n",
      " [  11.  510.]\n",
      " [  11.  458.]\n",
      " [  12.  602.]\n",
      " [  17.  708.]\n",
      " [  23.  915.]\n",
      " [  24. 1089.]\n",
      " [  28. 1485.]\n",
      " [  31. 1427.]\n",
      " [  27.  973.]\n",
      " [  20.  779.]\n",
      " [  16.  582.]\n",
      " [  12.  620.]\n",
      " [  11.  581.]\n",
      " [  12.  504.]\n",
      " [  13.  631.]\n",
      " [  19.  781.]\n",
      " [  24.  975.]\n",
      " [  25. 1109.]\n",
      " [  28. 1551.]\n",
      " [  31. 1516.]\n",
      " [  28. 1083.]\n",
      " [  21.  794.]\n",
      " [  16.  660.]\n",
      " [  10.  663.]]\n",
      "Training Dataset:\n",
      "[[  32. 1658.]\n",
      " [  19.  746.]\n",
      " [  24.  975.]\n",
      " [  25.  991.]\n",
      " [  27.  861.]\n",
      " [  30. 1506.]\n",
      " [  23.  915.]\n",
      " [  23.  894.]\n",
      " [  31. 1427.]\n",
      " [  31. 1513.]\n",
      " [  18.  537.]\n",
      " [  16.  660.]\n",
      " [  11.  482.]\n",
      " [  28. 1083.]\n",
      " [  18.  667.]\n",
      " [  20.  689.]\n",
      " [  22.  640.]\n",
      " [  30. 1155.]\n",
      " [  13.  610.]\n",
      " [  23. 1000.]\n",
      " [  10.  510.]\n",
      " [  31. 1516.]\n",
      " [  12.  537.]\n",
      " [  27. 1025.]\n",
      " [  25. 1109.]\n",
      " [  24. 1089.]\n",
      " [  11.  458.]\n",
      " [  26. 1123.]\n",
      " [  27.  973.]\n",
      " [  10.  416.]\n",
      " [  20.  724.]\n",
      " [  14.  607.]\n",
      " [  12.  620.]\n",
      " [  17.  708.]\n",
      " [  13.  599.]\n",
      " [  10.  584.]\n",
      " [  12.  504.]\n",
      " [  17.  492.]\n",
      " [  15.  531.]\n",
      " [  29. 1236.]\n",
      " [  10.  663.]\n",
      " [  26.  996.]\n",
      " [  31. 1443.]\n",
      " [  28. 1485.]\n",
      " [  12.  542.]\n",
      " [  24. 1040.]\n",
      " [  19.  781.]\n",
      " [  12.  602.]]\n",
      "\n",
      "Test Dataset:\n",
      "[[  10.  507.]\n",
      " [  26. 1021.]\n",
      " [  11.  510.]\n",
      " [  20.  779.]\n",
      " [  11.  423.]\n",
      " [  28. 1551.]\n",
      " [  23.  649.]\n",
      " [  11.  581.]\n",
      " [   9.  494.]\n",
      " [  21.  794.]\n",
      " [  16.  582.]\n",
      " [  13.  631.]]\n",
      "[32. 19. 24. 25. 27. 30. 23. 23. 31. 31. 18. 16. 11. 28. 18. 20. 22. 30.\n",
      " 13. 23. 10. 31. 12. 27. 25. 24. 11. 26. 27. 10. 20. 14. 12. 17. 13. 10.\n",
      " 12. 17. 15. 29. 10. 26. 31. 28. 12. 24. 19. 12.]\n",
      "<class 'numpy.ndarray'>\n",
      "Y_pred: [ 414.47082597 1108.24721505  457.83185029  848.08106915  457.83185029\n",
      " 1194.96926369  978.1641421   457.83185029  371.10980166  891.44209347\n",
      "  674.63697188  544.55389893], <class 'numpy.ndarray'>\n",
      "slope, intercept: 43.3610243173482, -19.13941719875031\n",
      "w, b: [43.36102432], -19.13941719875031\n",
      "予測結果:\n",
      "温度: 10.00  ->  予測売上金額: 414.47\n",
      "温度: 26.00  ->  予測売上金額: 1108.25\n",
      "温度: 11.00  ->  予測売上金額: 457.83\n",
      "温度: 20.00  ->  予測売上金額: 848.08\n",
      "温度: 11.00  ->  予測売上金額: 457.83\n",
      "温度: 28.00  ->  予測売上金額: 1194.97\n",
      "温度: 23.00  ->  予測売上金額: 978.16\n",
      "温度: 11.00  ->  予測売上金額: 457.83\n",
      "温度: 9.00  ->  予測売上金額: 371.11\n",
      "温度: 21.00  ->  予測売上金額: 891.44\n",
      "温度: 16.00  ->  予測売上金額: 674.64\n",
      "温度: 13.00  ->  予測売上金額: 544.55\n"
     ]
    },
    {
     "data": {
      "image/png": "[encoded data removed]",
      "text/plain": [
       "<Figure size 432x288 with 1 Axes>"
      ]
     },
     "metadata": {
      "needs_background": "light"
     },
     "output_type": "display_data"
    }
   ],
   "source": [
    "import numpy as np\n",
    "import matplotlib.pyplot as plt\n",
    "from sklearn.model_selection import train_test_split\n",
    "from sklearn.linear_model import LinearRegression\n",
    "import csv\n",
    "\n",
    "#データセットの読み込み、必要データの抽出\n",
    "def create_dataset():\n",
    "    with open(\"Simple_Regression_Analysis/icecream_data.txt\", \"r\") as data:\n",
    "        reader = csv.reader(data, delimiter=\" \")\n",
    "        next(reader)\n",
    "        training_data = []\n",
    "        for row in reader:\n",
    "            temperature = float(row[2])  # temperature\n",
    "            icecream_sales = int(row[3])  # ice_cream_sales\n",
    "            training_data.append([temperature, icecream_sales])\n",
    "    training_data = np.array(training_data)\n",
    "    return training_data\n",
    "\n",
    "# データの分割\n",
    "def split_data(training_data):\n",
    "    x = [d[0] for d in training_data]  # temperature\n",
    "    y = [d[1] for d in training_data]  # ice_cream_sales\n",
    "    return x, y\n",
    "\n",
    "#トレーニングデータをトレーニングセットとテストセットに分割\n",
    "def split_training_and_test(training_data):\n",
    "    training_data_set, test_data_set = train_test_split(training_data, test_size=0.2, random_state=42)\n",
    "    return training_data_set, test_data_set\n",
    "\n",
    "# 説明変数と目的変数の分割\n",
    "def split_Exv_and_Tgv(training_data_set):\n",
    "    X_train = training_data_set[:, 0]  # 温度（説明変数）\n",
    "    Y_train = training_data_set[:, 1]  # 売上金額（目的変数）\n",
    "    return X_train, Y_train\n",
    "\n",
    "# 線形回帰モデルの作成と学習\n",
    "def model_studying(X_train, Y_train):\n",
    "    model = LinearRegression()\n",
    "    model.fit(X_train.reshape(-1, 1), Y_train)\n",
    "    return model\n",
    "\n",
    "# テストデータの予測\n",
    "def predict(test_data_set, model):\n",
    "    X_test = test_data_set[:, 0]  # 温度（説明変数）\n",
    "    Y_test = test_data_set[:, 1]  # 売上金額（目的変数）\n",
    "    Y_pred = model.predict(X_test.reshape(-1, 1))\n",
    "    return X_test, Y_test, Y_pred\n",
    "\n",
    "# トレーニングデータの学習\n",
    "def study(X_train, Y_train):\n",
    "    slope, intercept = np.polyfit(X_train.flatten(), Y_train, 1)\n",
    "    return slope, intercept\n",
    "\n",
    "# 重みベクトルとバイアスの定義\n",
    "def dec_slope_and_intercept(slope, intercept):\n",
    "    w = np.array([slope])\n",
    "    b = intercept\n",
    "    return w, b\n",
    "\n",
    "# 予測結果の表示\n",
    "def get_result(X_test, w, b):\n",
    "    print(\"予測結果:\")\n",
    "    predicted = np.dot(X_test.reshape(-1, 1), w) + b  # すべてのテストデータに対して予測を計算\n",
    "    for i in range(len(X_test)):\n",
    "        print(\"温度: {:.2f}  ->  予測売上金額: {:.2f}\".format(X_test[i], predicted[i]))\n",
    "    return predicted\n",
    "\n",
    "def plot_graph(x, y, X_test, Y_test, predicted):\n",
    "# 散布図のプロット\n",
    "    plt.scatter(x, y, color='green')\n",
    "    # 線形回帰直線のプロット\n",
    "    plt.plot(X_test, predicted.flatten(), color='red', label='Linear Regression')\n",
    "    plt.scatter(X_test, Y_test, color='yellow', label='Actual Test Data')\n",
    "    plt.xlabel('Temperature')  # X軸ラベル命名\n",
    "    plt.ylabel('Ice Cream Sales')  # Y軸ラベル命名\n",
    "    plt.title('Linear Regression')\n",
    "    plt.legend()\n",
    "    plt.show()\n",
    "\n",
    "if __name__ == \"__main__\":\n",
    "    training_data = create_dataset()\n",
    "    print(training_data)\n",
    "    x, y = split_data(training_data)\n",
    "    training_data_set, test_data_set = split_training_and_test(training_data)\n",
    "    print(\"Training Dataset:\")\n",
    "    print(training_data_set)\n",
    "    print(\"\\nTest Dataset:\")\n",
    "    print(test_data_set)\n",
    "    X_train, Y_train = split_Exv_and_Tgv(training_data_set)\n",
    "    print(X_train)\n",
    "    print(type(X_train))\n",
    "    model = model_studying(X_train, Y_train)\n",
    "    X_test, Y_test, Y_pred = predict(test_data_set, model)\n",
    "    print(f\"Y_pred: {Y_pred}, {type(Y_pred)}\")\n",
    "    slope, intercept = study(X_train, Y_train)\n",
    "    print(f\"slope, intercept: {slope}, {intercept}\")\n",
    "    w, b = dec_slope_and_intercept(slope, intercept)\n",
    "    print(f\"w, b: {w}, {b}\")\n",
    "    predicted = get_result(X_test, w, b)\n",
    "    plot_graph(x, y, X_test, Y_test, predicted)"
   ]
  },
  {
   "cell_type": "markdown",
   "metadata": {},
   "source": [
    "## 評価・まとめ\n",
    "\n"
   ]
  },
  {
   "cell_type": "markdown",
   "metadata": {},
   "source": [
    "機械学習モデルの評価やまとめを以下に示す。\n",
    "\n",
    "定量的な評価:\n",
    "\n",
    "平均二乗誤差または 平均絶対誤差を計算して、モデルの予測精度を評価する。"
   ]
  },
  {
   "cell_type": "code",
   "execution_count": 3,
   "metadata": {},
   "outputs": [
    {
     "name": "stdout",
     "output_type": "stream",
     "text": [
      "MSE: 26317.458538123905\n",
      "MAE: 128.63632092559894\n"
     ]
    }
   ],
   "source": [
    "from sklearn.metrics import mean_squared_error, mean_absolute_error\n",
    "\n",
    "mse = mean_squared_error(Y_test, Y_pred)\n",
    "mae = mean_absolute_error(Y_test, Y_pred)\n",
    "\n",
    "print(f\"MSE: {mse}\")\n",
    "print(f\"MAE: {mae}\")\n"
   ]
  },
  {
   "cell_type": "markdown",
   "metadata": {},
   "source": [
    "決定係数 (Coefficient of Determination) を計算して、モデルの予測の説明力を評価する"
   ]
  },
  {
   "cell_type": "code",
   "execution_count": 4,
   "metadata": {},
   "outputs": [
    {
     "name": "stdout",
     "output_type": "stream",
     "text": [
      "R^2 Score: 0.7045857957336599\n"
     ]
    }
   ],
   "source": [
    "from sklearn.metrics import r2_score\n",
    "\n",
    "r2 = r2_score(Y_test, Y_pred)\n",
    "\n",
    "print(f\"R^2 Score: {r2}\")"
   ]
  },
  {
   "cell_type": "markdown",
   "metadata": {},
   "source": [
    "定性的な評価:\n",
    "\n",
    "散布図と線形回帰直線をプロットし、実際のテストデータと予測結果を視覚的に比較する。"
   ]
  },
  {
   "cell_type": "code",
   "execution_count": 5,
   "metadata": {
    "scrolled": true
   },
   "outputs": [
    {
     "data": {
      "image/png": "[encoded data removed]",
      "text/plain": [
       "<Figure size 432x288 with 1 Axes>"
      ]
     },
     "metadata": {
      "needs_background": "light"
     },
     "output_type": "display_data"
    }
   ],
   "source": [
    "def plot_graph(x, y, X_test, Y_test, predicted):\n",
    "    plt.scatter(x, y, color='green')\n",
    "    plt.plot(X_test, predicted.flatten(), color='red', label='Linear Regression')\n",
    "    plt.scatter(X_test, Y_test, color='yellow', label='Actual Test Data')\n",
    "    plt.xlabel('Temperature')\n",
    "    plt.ylabel('Ice Cream Sales')\n",
    "    plt.title('Linear Regression')\n",
    "    plt.legend()\n",
    "    plt.show()\n",
    "\n",
    "plot_graph(x, y, X_test, Y_test, predicted)\n"
   ]
  },
  {
   "cell_type": "markdown",
   "metadata": {},
   "source": [
    "評価のまとめ:\n",
    "このモデルは、気温とアイスクリームの売上金額の関係を線形回帰モデルを用いてモデリングした。平均二乗誤差や平均絶対誤差による定量的な評価から、モデルの予測精度が評価された。また、決定係数を計算することで、モデルが予測の説明力を持つことも示された。\n",
    "さらに、散布図と線形回帰直線のプロットにより、実際のテストデータと予測結果を視覚的に比較した。この可視化結果から、モデルが気温とアイスクリームの売上金額の間に正の線形関係を捉えていることが確認できる。\n",
    "このモデルは気温とアイスクリームの売上金額の関係をうまくモデル化できており、予測の精度や説明力が高いことが示された。"
   ]
  },
  {
   "cell_type": "markdown",
   "metadata": {},
   "source": [
    "## 参考文献リスト\n",
    "\n",
    "・Sebastian Raschka/Vahid Mirjalili,Python機械学習プログラミング,高橋隆志,株式会社インプレス,東京都千代田区,2022/8/21\n",
    "\n",
    "・いまにゅのプログラミング塾, 7.単回帰分析と重回帰分析,Chainer, https://tutorials.chainer.org/ja/07_Regression_Analysis.html ,2023/7,17\n",
    "\n",
    "・いまにゅのプログラミング塾,【機械学習入門】Pythonで機械学習を実装したい人がはじめに見る動画（教師あり学習・回帰）,Youtube, https://youtu.be/MulTGYX5JS0 , 2023/7/17"
   ]
  }
 ],
 "metadata": {
  "kernelspec": {
   "display_name": "Python 3 (ipykernel)",
   "language": "python",
   "name": "python3"
  },
  "language_info": {
   "codemirror_mode": {
    "name": "ipython",
    "version": 3
   },
   "file_extension": ".py",
   "mimetype": "text/x-python",
   "name": "python",
   "nbconvert_exporter": "python",
   "pygments_lexer": "ipython3",
   "version": "3.9.12"
  }
 },
 "nbformat": 4,
 "nbformat_minor": 4
}
